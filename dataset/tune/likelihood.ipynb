{
 "cells": [
  {
   "cell_type": "code",
   "execution_count": 2,
   "outputs": [],
   "source": [
    "import cohere\n",
    "import json\n",
    "\n",
    "raw = json.load(open(\"raw.json\"))"
   ],
   "metadata": {
    "collapsed": false
   }
  },
  {
   "cell_type": "code",
   "execution_count": 3,
   "outputs": [],
   "source": [
    "import random\n",
    "\n",
    "random_keys = random.choices(list(raw.keys()), k=5)\n",
    "random_sentences = set([raw[key].split(\".\")[3].strip() for key in random_keys])"
   ],
   "metadata": {
    "collapsed": false
   }
  },
  {
   "cell_type": "code",
   "execution_count": 4,
   "outputs": [
    {
     "data": {
      "text/plain": "{'I hope you’ll see that the discussions of emotionally immature parents in this book are informed by a deep understanding of the reasons for their limitations',\n 'If a person’s only way of coping is to fight, flee, or freeze up when things become stressful, imagine how hard it would be for that person to endure a lengthy survival challenge',\n 'People who are emotionally mature can function independently while also having deep emotional attachments, smoothly incorporating both into their daily life',\n 'They may then believe it’s up to them to make the relationship work',\n 'What is true doesn’t matter nearly as much as what feels true (Bowen 1978)'}"
     },
     "execution_count": 4,
     "metadata": {},
     "output_type": "execute_result"
    }
   ],
   "source": [
    "random_sentences"
   ],
   "metadata": {
    "collapsed": false
   }
  },
  {
   "cell_type": "code",
   "execution_count": 12,
   "outputs": [
    {
     "name": "stdout",
     "output_type": "stream",
     "text": [
      "Likelihood base  : -3.728302\n",
      "Likelihood custom: -1.391839\n",
      "Custom is better  True\n",
      "Likelihood base  : -4.204488\n",
      "Likelihood custom: -1.9275246\n",
      "Custom is better  True\n",
      "Likelihood base  : -4.0730133\n",
      "Likelihood custom: -2.260204\n",
      "Custom is better  True\n",
      "Likelihood base  : -4.6504364\n",
      "Likelihood custom: -1.7703983\n",
      "Custom is better  True\n",
      "Likelihood base  : -5.1296587\n",
      "Likelihood custom: -1.9967306\n",
      "Custom is better  True\n"
     ]
    }
   ],
   "source": [
    "co = cohere.Client('Kwi3nCYBE9ihcpvY8TNa3DTsCe0rKGGXqOnmrVrh')  # This is your trial API key\n",
    "kwargs = dict(\n",
    "    max_tokens=1,\n",
    "    temperature=1,\n",
    "    k=0,\n",
    "    p=0.75,\n",
    "    frequency_penalty=0,\n",
    "    presence_penalty=0,\n",
    "    stop_sequences=[],\n",
    "    return_likelihoods='ALL'\n",
    ")\n",
    "\n",
    "for sentence in random_sentences:\n",
    "    base = co.generate(prompt=sentence, model='command-xlarge', **kwargs)\n",
    "    custom = co.generate(prompt=sentence, model='a01ea68c-1407-40b1-b399-89953ff48f1f-ft', **kwargs)\n",
    "    base_lh = base.generations[0].likelihood\n",
    "    custom_lh = custom.generations[0].likelihood\n",
    "    print('Likelihood base  : {}'.format(base_lh))\n",
    "    print('Likelihood custom: {}'.format(custom_lh))\n",
    "    print('Custom is better ', custom_lh > base_lh)\n"
   ],
   "metadata": {
    "collapsed": false
   }
  },
  {
   "cell_type": "code",
   "execution_count": null,
   "outputs": [],
   "source": [],
   "metadata": {
    "collapsed": false
   }
  },
  {
   "cell_type": "code",
   "execution_count": null,
   "outputs": [],
   "source": [],
   "metadata": {
    "collapsed": false
   }
  },
  {
   "cell_type": "code",
   "execution_count": 33,
   "outputs": [
    {
     "data": {
      "text/plain": "5"
     },
     "execution_count": 33,
     "metadata": {},
     "output_type": "execute_result"
    }
   ],
   "source": [
    "len(random_sentences)"
   ],
   "metadata": {
    "collapsed": false
   }
  },
  {
   "cell_type": "code",
   "execution_count": null,
   "outputs": [],
   "source": [],
   "metadata": {
    "collapsed": false
   }
  }
 ],
 "metadata": {
  "kernelspec": {
   "display_name": "Python 3",
   "language": "python",
   "name": "python3"
  },
  "language_info": {
   "codemirror_mode": {
    "name": "ipython",
    "version": 2
   },
   "file_extension": ".py",
   "mimetype": "text/x-python",
   "name": "python",
   "nbconvert_exporter": "python",
   "pygments_lexer": "ipython2",
   "version": "2.7.6"
  }
 },
 "nbformat": 4,
 "nbformat_minor": 0
}
